{
  "nbformat": 4,
  "nbformat_minor": 5,
  "metadata": {
    "colab": {
      "provenance": [],
      "include_colab_link": true
    },
    "language_info": {
      "name": "python"
    },
    "kernelspec": {
      "name": "python3",
      "display_name": "Python 3"
    }
  },
  "cells": [
    {
      "cell_type": "markdown",
      "metadata": {
        "id": "view-in-github",
        "colab_type": "text"
      },
      "source": [
        "<a href=\"https://colab.research.google.com/github/NTejavaddi/mediapipe-samples/blob/main/Topic_1_Linear_Algebra.ipynb\" target=\"_parent\"><img src=\"https://colab.research.google.com/assets/colab-badge.svg\" alt=\"Open In Colab\"/></a>"
      ]
    },
    {
      "id": "29ef6a04",
      "cell_type": "markdown",
      "source": [
        "# Topic 1: Linear Algebra\n",
        "---"
      ],
      "metadata": {
        "id": "29ef6a04"
      }
    },
    {
      "id": "98013ea2",
      "cell_type": "markdown",
      "source": [
        "\n",
        "## 📘 Concept Overview\n",
        "Linear Algebra is the branch of mathematics concerning linear equations, matrices, vector spaces, and linear transformations. It is a foundational tool in modern machine learning and deep learning.\n",
        "\n",
        "---\n"
      ],
      "metadata": {
        "id": "98013ea2"
      }
    },
    {
      "id": "4e3191e5",
      "cell_type": "markdown",
      "source": [
        "\n",
        "## 🧮 Key Formulas\n",
        "\n",
        "- Matrix Multiplication:\n",
        "  \\[ C = A \\cdot B \\]\n",
        "\n",
        "- Dot Product of Vectors:\n",
        "  \\[\n",
        "ec{a} \\cdot\n",
        "ec{b} = \\sum_{i=1}^{n} a_i b_i \\]\n",
        "\n",
        "- Eigenvalues and Eigenvectors:\n",
        "  \\[ A\n",
        "ec{v} = \\lambda\n",
        "ec{v} \\]\n",
        "\n",
        "- Determinant:\n",
        "  \\[ \text{det}(A) \\]\n",
        "\n",
        "- Inverse of a Matrix:\n",
        "  \\[ A^{-1} \text{ such that } A \\cdot A^{-1} = I \\]\n",
        "\n",
        "---\n"
      ],
      "metadata": {
        "id": "4e3191e5"
      }
    },
    {
      "id": "4e575ecd",
      "cell_type": "markdown",
      "source": [
        "\n",
        "## 🤖 Applications in AI/ML/DL/NLP\n",
        "\n",
        "- Representing datasets as matrices (e.g. X for features, y for labels)\n",
        "- Linear regression and matrix inversion\n",
        "- Word embeddings in NLP (dot product, cosine similarity)\n",
        "- Convolution operations in CNNs (matrix operations)\n",
        "- PCA (Principal Component Analysis) uses eigenvectors\n",
        "\n",
        "---\n"
      ],
      "metadata": {
        "id": "4e575ecd"
      }
    },
    {
      "id": "3b96e39c",
      "cell_type": "code",
      "metadata": {
        "id": "3b96e39c"
      },
      "execution_count": null,
      "source": [
        "\n",
        "import numpy as np\n",
        "import matplotlib.pyplot as plt\n",
        "\n",
        "# Matrix operations\n",
        "A = np.array([[2, 1], [1, 3]])\n",
        "B = np.array([[1, 0], [4, 2]])\n",
        "C = np.dot(A, B)\n",
        "print(\"Matrix A:\n",
        "\", A)\n",
        "print(\"Matrix B:\n",
        "\", B)\n",
        "print(\"A @ B =\n",
        "\", C)\n",
        "\n",
        "# Eigenvalues and eigenvectors\n",
        "eig_vals, eig_vecs = np.linalg.eig(A)\n",
        "print(\"\\nEigenvalues:\", eig_vals)\n",
        "print(\"Eigenvectors:\\n\", eig_vecs)\n",
        "\n",
        "# Visualizing transformation of a vector\n",
        "v = np.array([1, 1])\n",
        "Av = A @ v\n",
        "\n",
        "plt.quiver(0, 0, v[0], v[1], angles='xy', scale_units='xy', scale=1, color='blue', label='Original v')\n",
        "plt.quiver(0, 0, Av[0], Av[1], angles='xy', scale_units='xy', scale=1, color='red', label='Transformed Av')\n",
        "plt.xlim(-1, 5)\n",
        "plt.ylim(-1, 5)\n",
        "plt.grid()\n",
        "plt.legend()\n",
        "plt.title(\"Linear Transformation by Matrix A\")\n",
        "plt.xlabel(\"x\")\n",
        "plt.ylabel(\"y\")\n",
        "plt.axis('equal')\n",
        "plt.show()\n"
      ],
      "outputs": []
    },
    {
      "id": "72450e85",
      "cell_type": "markdown",
      "source": [
        "\n",
        "## 🔁 Flowchart – Matrix Multiplication (2D)\n",
        "1. Start  \n",
        "2. Input matrix A (m×n) and matrix B (n×p)  \n",
        "3. Initialize result matrix C (m×p) with zeros  \n",
        "4. For each row i in A:  \n",
        "   - For each column j in B:  \n",
        "     - For each element k:  \n",
        "       - Multiply A[i][k] × B[k][j] and add to C[i][j]  \n",
        "5. Return matrix C  \n",
        "6. End\n",
        "\n",
        "---\n"
      ],
      "metadata": {
        "id": "72450e85"
      }
    },
    {
      "cell_type": "code",
      "source": [],
      "metadata": {
        "id": "--e5RTAPdU0d"
      },
      "id": "--e5RTAPdU0d",
      "execution_count": null,
      "outputs": []
    }
  ]
}